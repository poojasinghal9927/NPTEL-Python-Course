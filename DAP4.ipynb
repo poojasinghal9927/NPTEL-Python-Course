{
 "cells": [
  {
   "cell_type": "code",
   "execution_count": 1,
   "metadata": {},
   "outputs": [],
   "source": [
    "'Week 4 Practice Programming Assignment'\n",
    "\n",
    "def orangecap(data):\n",
    "    'Finding batsman with highest total score in all matches'\n",
    "    scores = {}\n",
    "    for match in data:\n",
    "        for player in data[match]:\n",
    "            if player not in scores:\n",
    "                scores[player] =  data[match][player]\n",
    "            else:\n",
    "                scores[player] += data[match][player]\n",
    "    top_player = max(scores,key = lambda x: scores[x])\n",
    "    return (top_player,scores[top_player])\n",
    "\n",
    "def addpoly(p1,p2):\n",
    "    'Adding polynomial given in (coeff,degree) tuple list form'\n",
    "    degree_coeff = {}\n",
    "    for c,d in p1:\n",
    "        degree_coeff[d] = c\n",
    "    for c,d in p2:\n",
    "        if d in degree_coeff:\n",
    "            degree_coeff[d] += c\n",
    "        else:\n",
    "            degree_coeff[d] = c\n",
    "    return [ (degree_coeff[d],d) for d in sorted(degree_coeff,reverse=True) if degree_coeff[d] ]\n",
    "\n",
    "def multpoly(p1,p2):\n",
    "    'Multiplying polynomial given in (coeff,degree) tuple list form'\n",
    "    degree_coeff = {}\n",
    "    for c1,d1 in p1:\n",
    "        for c2,d2 in p2:\n",
    "            if d1+d2 in degree_coeff:\n",
    "                degree_coeff[d1+d2] += c1*c2\n",
    "            else:\n",
    "                degree_coeff[d1+d2] = c1*c2\n",
    "    return [ (degree_coeff[d],d) for d in sorted(degree_coeff,reverse=True) if degree_coeff[d] ]"
   ]
  },
  {
   "cell_type": "code",
   "execution_count": 2,
   "metadata": {
    "scrolled": true
   },
   "outputs": [
    {
     "name": "stdout",
     "output_type": "stream",
     "text": [
      "('player3', 100) ('player3', 100)\n",
      "('Kohli', 120) ('Kohli', 120)\n",
      "('Kohli', 120) ('Kohli', 120)\n",
      "('player1', 57) ('player1', 57)\n",
      "[(1, 3), (-1, 0)] [(1, 3), (-1, 0)]\n",
      "[(-4, 2)] [(-4, 2)]\n",
      "[(-16, 6), (8, 4), (-12, 3), (6, 1)] [(-16, 6), (8, 4), (-12, 3), (6, 1)]\n",
      "[(2, 1), (3, 0)] [(2, 1), (3, 0)]\n",
      "[] []\n",
      "[(1, 2), (2, 1)] [(1, 2), (2, 1)]\n"
     ]
    }
   ],
   "source": [
    "_ = '''DO NOT COPY THIS CODE'''\n",
    "\n",
    "a = '''Test Case 1 orangecap({'match1':{'player1':57,'player2':38},'match2':{'player3':9,'player1':42},'match3':{'player2':41,'player4':63,'player3':91}}) ('player3',100)\n",
    "Test Case 2 orangecap({'test1':{'Ashwin':84,'Kohli':120},'test2':{'ashwin':59,'Pujara':42}}) ('Kohli',120)\n",
    "Test Case 3 orangecap({'match1':{'player1':57,'player2':38},'match2':{'player3':9,'player1':42},'match3':{'player2':41,'player4':63,'player3':91},'test1':{'Ashwin':84,'Kohli':120},'test2':{'ashwin':59,'Pujara':42}}) ('Kohli',120)\n",
    "Test Case 4 orangecap({'match1':{'player1':57,'player2':38}}) ('player1',57)\n",
    "Test Case 5 multpoly([(1,1),(-1,0)],[(1,2),(1,1),(1,0)]) [(1,3),(-1,0)]\n",
    "Test Case 6 multpoly([(2,1)],[(-2,1)]) [(-4,2)]\n",
    "Test Case 7 multpoly([(4,3),(3,0)],[(-4,3),(2,1)]) [(-16,6),(8,4),(-12,3),(6,1)]\n",
    "Test Case 8 addpoly([(4,3),(3,0)],[(-4,3),(2,1)]) [(2,1),(3,0)]\n",
    "Test Case 9 addpoly([(2,1)],[(-2,1)]) []\n",
    "Test Case 10 addpoly([(1,1),(-1,0)],[(1,2),(1,1),(1,0)]) [(1,2),(2,1)]'''\n",
    "\n",
    "\n",
    "for i1,i2,i3,j,k in [x.split(' ') for x in a.split('\\n')]:\n",
    "    print(eval(j),eval(k))\n",
    "    \n",
    "_ = '''NON-COPYING REGION END'''"
   ]
  },
  {
   "cell_type": "code",
   "execution_count": null,
   "metadata": {},
   "outputs": [],
   "source": []
  },
  {
   "cell_type": "code",
   "execution_count": 3,
   "metadata": {},
   "outputs": [],
   "source": [
    "'Week 4 Programming Assignment'\n",
    "\n",
    "def rainaverage(L):\n",
    "    'Average rain per city'\n",
    "    city_raincount = {}\n",
    "    for city,amount in L:\n",
    "        if city in city_raincount:\n",
    "            city_raincount[city][0] += amount\n",
    "            city_raincount[city][1] += 1\n",
    "        else:\n",
    "            city_raincount[city] = [amount,1]\n",
    "    city_order = sorted(city_raincount)\n",
    "    return [(city,float(city_raincount[city][0]/city_raincount[city][1])) for city in city_order]\n",
    "\n",
    "def flatten(D):\n",
    "    'Recursive, Unrolling only list data type'\n",
    "    ret = []\n",
    "    for i in D:\n",
    "        if (type(i) == type([])):\n",
    "            ret.extend( flatten(i) )\n",
    "        else:\n",
    "            ret.append(i)\n",
    "    return ret"
   ]
  },
  {
   "cell_type": "code",
   "execution_count": 4,
   "metadata": {},
   "outputs": [
    {
     "name": "stdout",
     "output_type": "stream",
     "text": [
      "[(1, 2.0), (2, 3.0), (3, 8.0)] [(1, 2.0), (2, 3.0), (3, 8.0)]\n",
      "[('Bangalore', 201.0), ('Bombay', 885.5), ('Madras', 115.5)] [('Bangalore', 201.0), ('Bombay', 885.5), ('Madras', 115.5)]\n",
      "[1, 2, 3, 4, 5, 6] [1, 2, 3, 4, 5, 6]\n",
      "[1, 2, 3, (4, 5, 6)] [1, 2, 3, (4, 5, 6)]\n",
      "['hello', True, 3] ['hello', True, 3]\n",
      "[1, 2, 3, 'hello', True, 4, 5, 6] [1, 2, 3, 'hello', True, 4, 5, 6]\n"
     ]
    }
   ],
   "source": [
    "_ = '''DO NOT COPY THIS CODE'''\n",
    "\n",
    "a = '''Test Case 1 rainaverage([(1,2),(1,3),(2,3),(1,1),(3,8)]) [(1,2.0),(2,3.0),(3,8.0)]\n",
    "Test Case 2 rainaverage([('Bombay',848),('Madras',103),('Bombay',923),('Bangalore',201),('Madras',128)]) [('Bangalore',201.0),('Bombay',885.5),('Madras',115.5)]\n",
    "Test Case 3 flatten([1,2,[3],[4,[5,6]]]) [1,2,3,4,5,6]\n",
    "Test Case 4 flatten([1,2,3,(4,5,6)]) [1,2,3,(4,5,6)]\n",
    "Test Case 5 flatten([\"hello\",True,3]) ['hello',True,3]\n",
    "Test Case 6 flatten([1,2,[3,[\"hello\",True]],[4,[5,6]]]) [1,2,3,'hello',True,4,5,6]'''\n",
    "\n",
    "\n",
    "for i1,i2,i3,j,k in [x.split(' ') for x in a.split('\\n')]:\n",
    "    print(eval(j),eval(k))\n",
    "    \n",
    "_ = '''NON-COPYING REGION END'''"
   ]
  },
  {
   "cell_type": "code",
   "execution_count": null,
   "metadata": {},
   "outputs": [],
   "source": []
  }
 ],
 "metadata": {
  "kernelspec": {
   "display_name": "Python3(DSL)",
   "language": "python",
   "name": "dsl"
  },
  "language_info": {
   "codemirror_mode": {
    "name": "ipython",
    "version": 3
   },
   "file_extension": ".py",
   "mimetype": "text/x-python",
   "name": "python",
   "nbconvert_exporter": "python",
   "pygments_lexer": "ipython3",
   "version": "3.6.7"
  }
 },
 "nbformat": 4,
 "nbformat_minor": 2
}
