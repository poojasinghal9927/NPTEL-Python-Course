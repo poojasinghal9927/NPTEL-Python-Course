{
 "cells": [
  {
   "cell_type": "code",
   "execution_count": 1,
   "metadata": {},
   "outputs": [],
   "source": [
    "'Week 3 Practice Programming Assignment'\n",
    "\n",
    "def descending(L):\n",
    "    'List must be monotonically descending'\n",
    "    'L[i-1] >= L[i]'\n",
    "    for i in range(1,len(L)):\n",
    "        if L[i-1]<L[i]:\n",
    "            return False\n",
    "    else: # else of loop executes, if terminates from top, not inbetween 'break'\n",
    "        return True\n",
    "\n",
    "def valley(L):\n",
    "    'Strictly Decreasing then increasing, both non-empty'\n",
    "    lowest_index = L.index(min(L))\n",
    "    if L[:lowest_index+1] and L[lowest_index:]:\n",
    "        # Both DSC & ASC lists are non-empty\n",
    "        cond_1 = sorted(L[:lowest_index+1],reverse=True)  == L[:lowest_index+1]\n",
    "        cond_2 = sorted(L[lowest_index:],  reverse=False) == L[lowest_index:]\n",
    "        if cond_1 and cond_2:\n",
    "            # 1st slice is reverse(DSC) sorted, 2nd is default (ASC) sorted\n",
    "            return True\n",
    "        else:\n",
    "            return False #Both non-empty, but any one violates condition\n",
    "    else:\n",
    "        # False if any list is empty, or any condition won't hold\n",
    "        return False\n",
    "\n",
    "def transpose(L):\n",
    "    'Matrix transpose of matrices'\n",
    "    # Changing just row_indx & col_indx won't work for rectangular matrix\n",
    "    return [ [ L[ri][ci] for ri in range(len(L))] for ci in range(len(L[0])) ]"
   ]
  },
  {
   "cell_type": "code",
   "execution_count": 2,
   "metadata": {
    "scrolled": true
   },
   "outputs": [
    {
     "name": "stdout",
     "output_type": "stream",
     "text": [
      "True True\n",
      "True True\n",
      "False False\n",
      "True False\n",
      "True False\n",
      "True True\n",
      "True True\n",
      "[[19], [14]] [[19], [14]]\n",
      "[[21, 42], [33, 64], [11, 16]] [[21, 42], [33, 64], [11, 16]]\n",
      "[[16, 26, 84], [31, 82, 53], [42, 73, 38]] [[16, 26, 84], [31, 82, 53], [42, 73, 38]]\n"
     ]
    }
   ],
   "source": [
    "_ = '''DO NOT COPY THIS CODE'''\n",
    "\n",
    "a = '''Test Case 1 descending([]) True\n",
    "Test Case 2 descending([4,4,3]) True\n",
    "Test Case 3 descending([19,17,18,7]) False\n",
    "Test Case 4 valley([2]) False\n",
    "Test Case 5 valley([13,12,14,14]) False\n",
    "Test Case 6 valley([5,4,3,2,1,2]) True\n",
    "Test Case 7 valley([17,1,2,3,4,5]) True\n",
    "Test Case 8 transpose([[19,14]]) [[19],[14]]\n",
    "Test Case 9 transpose([[21,33,11],[42,64,16]]) [[21,42],[33,64],[11,16]]\n",
    "Test Case 10 transpose([[16,31,42],[26,82,73],[84,53,38]]) [[16,26,84],[31,82,53],[42,73,38]]'''\n",
    "\n",
    "\n",
    "for i1,i2,i3,j,k in [x.split(' ') for x in a.split('\\n')]:\n",
    "    print(eval(j),eval(k))\n",
    "    \n",
    "_ = '''NON-COPYING REGION END'''"
   ]
  },
  {
   "cell_type": "code",
   "execution_count": null,
   "metadata": {},
   "outputs": [],
   "source": []
  },
  {
   "cell_type": "code",
   "execution_count": 3,
   "metadata": {},
   "outputs": [],
   "source": [
    "'Week 3 Programming Assignment'\n",
    "\n",
    "def progression(L):\n",
    "    'check if given list is an Arithmetic Progression'\n",
    "    if len(L)<=1:\n",
    "        return True\n",
    "    a = L[0]\n",
    "    d = L[1]-L[0]\n",
    "    for i in range(1,len(L)):\n",
    "        d_chk = L[i]-L[i-1]\n",
    "        if d != d_chk:\n",
    "            return False\n",
    "    else:\n",
    "        return True\n",
    "\n",
    "def primesquare(L):\n",
    "    # Snippet of Sieve of Eratosthenes (prev. assignment, populat algo)\n",
    "    mx = max(L)+1\n",
    "    prime_index = [1]*mx\n",
    "    prime_index[0:2] = [0,0]\n",
    "    for i in range(2,round(mx**0.5)+1):\n",
    "        if prime_index[i]:\n",
    "            for j in range(i*2,mx,i):\n",
    "                prime_index[j] = 0\n",
    "    # Finding how list begins, prime, prsqr or none            \n",
    "    first = L[0]\n",
    "    if prime_index[first]:\n",
    "        'List begins with Primes'\n",
    "        prime_indx_parity,prsqr_indx_parity  = 0,1\n",
    "    elif (int(first**0.5)**2) == first:\n",
    "        'List begins with Perfect square'\n",
    "        prime_indx_parity,prsqr_indx_parity  = 1,0\n",
    "    else:\n",
    "        'Not any above, must be false'\n",
    "        return False\n",
    "    # Lambda functions to check primes & perfect squares\n",
    "    prime_chk = lambda x: prime_index[x]\n",
    "    prsqr_chk = lambda x: (int(x**0.5)**2) == x\n",
    "    # Generating expression of primes & prsqrs positions\n",
    "    primes = ( L[i] for i in range(len(L)) if i%2==prime_indx_parity )\n",
    "    prsqrs = ( L[i] for i in range(len(L)) if i%2==prsqr_indx_parity )\n",
    "    # Condition for checking if primes & prsqr are at correct places\n",
    "    prime_valid_pos = all(map( prime_chk , primes ))\n",
    "    prsqr_valid_pos = all(map( prsqr_chk , prsqrs ))\n",
    "    \n",
    "    if prime_valid_pos and prsqr_valid_pos:\n",
    "        return True\n",
    "    else:\n",
    "        return False\n",
    "\n",
    "def matrixflip(m,d):\n",
    "    'Note logical horizontal & vertical flip differ from testcases given'\n",
    "    # Actually return arguments of IF & ELIF should be swapped, but not for assignment\n",
    "    if d=='h': # Horizontal flip be reversing rows\n",
    "        return [row[::-1] for row in m]\n",
    "    elif d=='v': # Vertical flip by reversing cols (entries in each row)\n",
    "        return m[::-1]\n",
    "    else: # This case should never occur\n",
    "        return m"
   ]
  },
  {
   "cell_type": "code",
   "execution_count": 4,
   "metadata": {},
   "outputs": [
    {
     "name": "stdout",
     "output_type": "stream",
     "text": [
      "True True\n",
      "True True\n",
      "False False\n",
      "True True\n",
      "True True\n",
      "False False\n",
      "[[2, 1], [4, 3]] [[2, 1], [4, 3]]\n",
      "[[3, 4], [1, 2]] [[3, 4], [1, 2]]\n"
     ]
    }
   ],
   "source": [
    "_ = '''DO NOT COPY THIS CODE'''\n",
    "\n",
    "a = '''Test Case 1 progression([3]) True\n",
    "Test Case 2 progression([7,3,-1,-5]) True\n",
    "Test Case 3 progression([3,5,7,9,10]) False\n",
    "Test Case 4 primesquare([4]) True\n",
    "Test Case 5 primesquare([4,5,16,101,64]) True\n",
    "Test Case 6 primesquare([5,16,101,36,27]) False\n",
    "Test Case 7 matrixflip([[1,2],[3,4]],'h') [[2,1],[4,3]]\n",
    "Test Case 8 matrixflip([[1,2],[3,4]],'v') [[3,4],[1,2]]'''\n",
    "\n",
    "\n",
    "for i1,i2,i3,j,k in [x.split(' ') for x in a.split('\\n')]:\n",
    "    print(eval(j),eval(k))\n",
    "    \n",
    "_ = '''NON-COPYING REGION END'''"
   ]
  },
  {
   "cell_type": "code",
   "execution_count": null,
   "metadata": {},
   "outputs": [],
   "source": []
  }
 ],
 "metadata": {
  "kernelspec": {
   "display_name": "Python3(DSL)",
   "language": "python",
   "name": "dsl"
  },
  "language_info": {
   "codemirror_mode": {
    "name": "ipython",
    "version": 3
   },
   "file_extension": ".py",
   "mimetype": "text/x-python",
   "name": "python",
   "nbconvert_exporter": "python",
   "pygments_lexer": "ipython3",
   "version": "3.6.7"
  }
 },
 "nbformat": 4,
 "nbformat_minor": 2
}
