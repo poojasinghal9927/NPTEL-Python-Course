{
 "cells": [
  {
   "cell_type": "code",
   "execution_count": 1,
   "metadata": {},
   "outputs": [],
   "source": [
    "'Week 2 Practice Programming Assignment'\n",
    "\n",
    "def intreverse(val):\n",
    "    'Finding Reverse of Given Integer'\n",
    "    res = 0\n",
    "    while val>0:\n",
    "        res = res*10+val%10\n",
    "        val //=10\n",
    "    return res\n",
    "\n",
    "def matched(st):\n",
    "    'Finding if given string has Matching & Balanced parentheses'\n",
    "    c = 0\n",
    "    for i in st:\n",
    "        if i=='(':\n",
    "            c+=1\n",
    "        if i==')':\n",
    "            c-=1\n",
    "        if c<0:\n",
    "            return False\n",
    "    return True if c==0 else False\n",
    "\n",
    "def sumprimes(L):\n",
    "    'Sum of primes number in given list, (2,infinity) is range of primes'\n",
    "    mx = max(L)+1\n",
    "    prime_index = [1]*mx\n",
    "    prime_index[0:2] = [0,0]\n",
    "    for i in range(2,round(mx**0.5)+1):\n",
    "        if prime_index[i]:\n",
    "            for j in range(i*2,mx,i):\n",
    "                prime_index[j] = 0\n",
    "    return sum(i*prime_index[i] for i in L if i>=2)"
   ]
  },
  {
   "cell_type": "code",
   "execution_count": 2,
   "metadata": {},
   "outputs": [
    {
     "name": "stdout",
     "output_type": "stream",
     "text": [
      "11513 11513\n",
      "4 4\n",
      "53243242353151 53243242353151\n",
      "True True\n",
      "False False\n",
      "False False\n",
      "True True\n",
      "198 198\n",
      "802 802\n",
      "57 57\n"
     ]
    }
   ],
   "source": [
    "_ = '''DO NOT COPY THIS CODE'''\n",
    "\n",
    "a = '''Test Case 1 intreverse(31511) 11513\n",
    "Test Case 2 intreverse(4) 4\n",
    "Test Case 3 intreverse(15135324234235) 53243242353151\n",
    "Test Case 4 matched(\"a3qw3;4w3(aasdgsd)((agadsgdsgag)agaga)\") True\n",
    "Test Case 5 matched(\"(ag(Gaga(agag)Gaga)GG)a)33)cc(\") False\n",
    "Test Case 6 matched(\"(adsgdsg(agaga)a\") False\n",
    "Test Case 7 matched(\"15ababa.agaga[][[[\") True\n",
    "Test Case 8 sumprimes([101,93,97,44]) 198\n",
    "Test Case 9 sumprimes([1001,393,743,59]) 802\n",
    "Test Case 10 sumprimes([11,11,11,13,11,-11]) 57'''\n",
    "\n",
    "\n",
    "for i1,i2,i3,j,k in [x.split(' ') for x in a.split('\\n')]:\n",
    "    print(eval(j),eval(k))\n",
    "    \n",
    "_ = '''NON-COPYING REGION END'''"
   ]
  },
  {
   "cell_type": "code",
   "execution_count": null,
   "metadata": {},
   "outputs": [],
   "source": []
  },
  {
   "cell_type": "code",
   "execution_count": 3,
   "metadata": {},
   "outputs": [],
   "source": [
    "'Week 2 Programming Assignment'\n",
    "\n",
    "def primepartition(val):\n",
    "    'Finding if exist two primes p,q such that p+q==val'\n",
    "    mx = val+1\n",
    "    prime_index = [1]*mx\n",
    "    prime_index[0:2] = [0,0]\n",
    "    for i in range(2,round(mx**0.5)+1):\n",
    "        if prime_index[i]:\n",
    "            for j in range(i*2,mx,i):\n",
    "                prime_index[j] = 0\n",
    "    primes = set(i for i in range(mx) if prime_index[i])\n",
    "    for i in primes:\n",
    "        if val-i in primes:\n",
    "            return True\n",
    "    else:\n",
    "        return False\n",
    "\n",
    "def nestingdepth(st):\n",
    "    'Maximum nested depth of parentheses, -1 if invalid'\n",
    "    mx,c = 0,0\n",
    "    for i in st:\n",
    "        if i=='(':\n",
    "            c+=1\n",
    "        if i==')':\n",
    "            c-=1\n",
    "        if c<0:\n",
    "            return -1\n",
    "        if c>mx:\n",
    "            mx = c\n",
    "    return mx if c==0 else -1\n",
    "\n",
    "def rotatelist(L,k):\n",
    "    'Left rotated list, for positive k only'\n",
    "    return L[k%len(L):]+L[:k%len(L)] if k>0 else L"
   ]
  },
  {
   "cell_type": "code",
   "execution_count": 4,
   "metadata": {},
   "outputs": [
    {
     "name": "stdout",
     "output_type": "stream",
     "text": [
      "True True\n",
      "False False\n",
      "True True\n",
      "0 0\n",
      "-1 -1\n",
      "-1 -1\n",
      "4 4\n",
      "[2, 3, 4, 5, 1] [2, 3, 4, 5, 1]\n",
      "[4, 5, 1, 2, 3] [4, 5, 1, 2, 3]\n",
      "[3, 4, 5, 1, 2] [3, 4, 5, 1, 2]\n"
     ]
    }
   ],
   "source": [
    "_ = '''DO NOT COPY THIS CODE'''\n",
    "\n",
    "a = '''Test Case 1 primepartition(7) True\n",
    "Test Case 2 primepartition(185) False\n",
    "Test Case 3 primepartition(3432) True\n",
    "Test Case 4 nestingdepth(\"zb%78\") 0\n",
    "Test Case 5 nestingdepth(\"(7)(a\") -1\n",
    "Test Case 6 nestingdepth(\"a)*(?\") -1\n",
    "Test Case 7 nestingdepth(\"((jkl)78(A)&l(8(dd(FJI:),):)?)\") 4\n",
    "Test Case 8 rotatelist([1,2,3,4,5],1) [2,3,4,5,1]\n",
    "Test Case 9 rotatelist([1,2,3,4,5],3) [4,5,1,2,3]\n",
    "Test Case 10 rotatelist([1,2,3,4,5],12) [3,4,5,1,2]'''\n",
    "\n",
    "for i1,i2,i3,j,k in [x.split(' ') for x in a.split('\\n')]:\n",
    "    print(eval(j),eval(k))\n",
    "    \n",
    "_ = '''NON-COPYING REGION END'''"
   ]
  },
  {
   "cell_type": "code",
   "execution_count": null,
   "metadata": {},
   "outputs": [],
   "source": []
  }
 ],
 "metadata": {
  "kernelspec": {
   "display_name": "Python3(DSL)",
   "language": "python",
   "name": "dsl"
  },
  "language_info": {
   "codemirror_mode": {
    "name": "ipython",
    "version": 3
   },
   "file_extension": ".py",
   "mimetype": "text/x-python",
   "name": "python",
   "nbconvert_exporter": "python",
   "pygments_lexer": "ipython3",
   "version": "3.6.7"
  }
 },
 "nbformat": 4,
 "nbformat_minor": 2
}
